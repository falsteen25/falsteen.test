{
 "cells": [
  {
   "cell_type": "markdown",
   "id": "5d1ff98f-9083-4ee8-9e10-d965abae5984",
   "metadata": {},
   "source": [
    "# Joining consumotion and weather data"
   ]
  },
  {
   "cell_type": "markdown",
   "id": "cded829f-6cf3-4398-80a2-ddc1be081a30",
   "metadata": {},
   "source": [
    "## Import the data from there files"
   ]
  },
  {
   "cell_type": "code",
   "execution_count": 3,
   "id": "d86f325d-7710-4b0b-b1c5-5b8aa62a8003",
   "metadata": {},
   "outputs": [],
   "source": [
    "import pandas as pd\n",
    "import matplotlib.pyplot as plt\n",
    "import glob\n",
    "from scipy.spatial import cKDTree\n",
    "import numpy as np"
   ]
  },
  {
   "cell_type": "code",
   "execution_count": 4,
   "id": "4d4c9e55-376d-49dc-b328-c5c9c2748e6d",
   "metadata": {},
   "outputs": [
    {
     "name": "stdout",
     "output_type": "stream",
     "text": [
      "         Unnamed: 0.1   date_time_weather  Unnamed: 0    id         name  \\\n",
      "0                   0 2021-01-01 00:00:00   2392917.0   2.0     Al Jafer   \n",
      "1                   1 2021-01-01 00:05:00   2392918.0   2.0     Al Jafer   \n",
      "2                   2 2021-01-01 00:10:00   2392919.0   2.0     Al Jafer   \n",
      "3                   3 2021-01-01 00:15:00   2392920.0   2.0     Al Jafer   \n",
      "4                   4 2021-01-01 00:20:00   2392921.0   2.0     Al Jafer   \n",
      "...               ...                 ...         ...   ...          ...   \n",
      "7220790       7220790 2023-12-31 23:35:00   8467900.0  29.0  Ras Muneeef   \n",
      "7220791       7220791 2023-12-31 23:40:00   8467901.0  29.0  Ras Muneeef   \n",
      "7220792       7220792 2023-12-31 23:45:00   8467902.0  29.0  Ras Muneeef   \n",
      "7220793       7220793 2023-12-31 23:50:00   8467903.0  29.0  Ras Muneeef   \n",
      "7220794       7220794 2023-12-31 23:55:00   8467904.0  29.0  Ras Muneeef   \n",
      "\n",
      "               lon        lat     alt  wind_speed_knot  wind_direction_degree  \\\n",
      "0        36.135556  30.342222   865.0            3.037                  2.366   \n",
      "1        36.135556  30.342222   865.0            2.207                  2.368   \n",
      "2        36.135556  30.342222   865.0            3.571                  2.373   \n",
      "3        36.135556  30.342222   865.0            3.848                  2.371   \n",
      "4        36.135556  30.342222   865.0            3.719                  2.365   \n",
      "...            ...        ...     ...              ...                    ...   \n",
      "7220790  35.811667  32.380278  1150.0            5.303                164.100   \n",
      "7220791  35.811667  32.380278  1150.0            5.027                163.800   \n",
      "7220792  35.811667  32.380278  1150.0            5.759                160.600   \n",
      "7220793  35.811667  32.380278  1150.0            6.118                161.300   \n",
      "7220794  35.811667  32.380278  1150.0            6.050                160.000   \n",
      "\n",
      "         irradiance  relative_humidity_percent  air_temperature_c  \\\n",
      "0               0.0                       86.4                4.9   \n",
      "1               0.0                       86.8                5.0   \n",
      "2               0.0                       87.2                4.9   \n",
      "3               0.0                       87.7                4.9   \n",
      "4               0.0                       87.8                4.6   \n",
      "...             ...                        ...                ...   \n",
      "7220790         0.0                       90.7                8.0   \n",
      "7220791         0.0                       90.3                7.9   \n",
      "7220792         0.0                       90.2                8.0   \n",
      "7220793         0.0                       89.7                8.0   \n",
      "7220794         0.0                       90.0                8.0   \n",
      "\n",
      "         rainfall_mm  irradiance_corrected  \n",
      "0                0.0                   0.0  \n",
      "1                0.0                   0.0  \n",
      "2                0.0                   0.0  \n",
      "3                0.0                   0.0  \n",
      "4                0.0                   0.0  \n",
      "...              ...                   ...  \n",
      "7220790          0.0                   0.0  \n",
      "7220791          0.0                   0.0  \n",
      "7220792          0.0                   0.0  \n",
      "7220793          0.0                   0.0  \n",
      "7220794          0.0                   0.0  \n",
      "\n",
      "[7220795 rows x 15 columns]\n"
     ]
    }
   ],
   "source": [
    "\n",
    "# Specify the path to your CSV files\n",
    "weather_csv_path = \"/Users/computer/Downloads/Load/Load/data/weather_data/*.csv\"\n",
    "\n",
    "# Get all CSV file paths\n",
    "weather_csv_files = glob.glob(weather_csv_path)\n",
    "\n",
    "# Read and combine all files into one DataFrame\n",
    "weather_df = [pd.read_csv(file, parse_dates=['date_time_weather']) for file in weather_csv_files]\n",
    "\n",
    "# Merge dataframes of all processed files\n",
    "weather_df = pd.concat(weather_df, ignore_index=True)\n",
    "\n",
    "# Display the combined DataFrame\n",
    "print(weather_df)\n"
   ]
  },
  {
   "cell_type": "code",
   "execution_count": 5,
   "id": "55943751-bb79-40d2-be7a-b7080a69d757",
   "metadata": {},
   "outputs": [
    {
     "name": "stdout",
     "output_type": "stream",
     "text": [
      "Consumption Data:\n",
      "  Unnamed: 1           date time Unnamed: 3          Unnamed: 4   ABDOON_P  \\\n",
      "0 2022-12-22 2022-12-22 00:00:00          - 2022-12-22 00:15:00  68.764967   \n",
      "1        NaT 2022-12-22 00:15:00          - 2022-12-22 00:30:00  66.653231   \n",
      "2        NaT 2022-12-22 00:30:00          - 2022-12-22 00:45:00  64.597852   \n",
      "3        NaT 2022-12-22 00:45:00          - 2022-12-22 01:00:00  62.472460   \n",
      "4        NaT 2022-12-22 01:00:00          - 2022-12-22 01:15:00  60.585692   \n",
      "\n",
      "   MW  ALHIZAM_P MW.1    ALSALT_P MW.2  ...  MW.45   ABDALI_P    AMMANS_P  \\\n",
      "0      74.628408       101.051490       ...         99.267082  142.179793   \n",
      "1      71.736453        96.527432       ...         95.861026  135.385285   \n",
      "2      69.361243        92.596907       ...         92.176326  130.173645   \n",
      "3      67.281793        88.787623       ...         88.520570  124.715073   \n",
      "4      64.917022        85.571806       ...         85.197838  120.251608   \n",
      "\n",
      "  AQABA A2_P  AQABA_TH_P   BAYADER_P  GHORSAF_P     MAAN_P  Q.A.I.A_P  \\\n",
      "0  28.967883   26.456249  123.863053  24.216399  40.743155  92.468205   \n",
      "1  28.404918   27.341207  119.592587  24.212756  39.842045  91.254029   \n",
      "2  27.793545   27.446248  114.806238  24.212756  38.863599  89.993602   \n",
      "3  26.255455   27.702298  110.032381  24.308198  37.422995  88.736829   \n",
      "4  26.229228   27.730119  106.152682  25.223323  36.267640  87.590058   \n",
      "\n",
      "     ZERQA_P  \n",
      "0  78.861674  \n",
      "1  76.320411  \n",
      "2  72.937742  \n",
      "3  70.732932  \n",
      "4  68.765413  \n",
      "\n",
      "[5 rows x 103 columns]\n",
      "Combined DateTime Data:\n",
      "      Unnamed: 1           date time Unnamed: 3          Unnamed: 4  \\\n",
      "0     2022-12-22 2022-12-22 00:00:00          - 2022-12-22 00:15:00   \n",
      "1            NaT 2022-12-22 00:15:00          - 2022-12-22 00:30:00   \n",
      "2            NaT 2022-12-22 00:30:00          - 2022-12-22 00:45:00   \n",
      "3            NaT 2022-12-22 00:45:00          - 2022-12-22 01:00:00   \n",
      "4            NaT 2022-12-22 01:00:00          - 2022-12-22 01:15:00   \n",
      "...          ...                 ...        ...                 ...   \n",
      "35995        NaT 2023-12-31 22:45:00          - 2023-12-31 23:00:00   \n",
      "35996        NaT 2023-12-31 23:00:00          - 2023-12-31 23:15:00   \n",
      "35997        NaT 2023-12-31 23:15:00          - 2023-12-31 23:30:00   \n",
      "35998        NaT 2023-12-31 23:30:00          - 2023-12-31 23:45:00   \n",
      "35999        NaT 2023-12-31 23:45:00          - 2024-01-01 00:00:00   \n",
      "\n",
      "        ABDOON_P  MW  ALHIZAM_P MW.1    ALSALT_P MW.2  ...  MW.45    ABDALI_P  \\\n",
      "0      68.764967      74.628408       101.051490       ...          99.267082   \n",
      "1      66.653231      71.736453        96.527432       ...          95.861026   \n",
      "2      64.597852      69.361243        92.596907       ...          92.176326   \n",
      "3      62.472460      67.281793        88.787623       ...          88.520570   \n",
      "4      60.585692      64.917022        85.571806       ...          85.197838   \n",
      "...          ...  ..        ...  ...         ...  ...  ...    ...         ...   \n",
      "35995  80.717635      83.852805       117.611849       ...         110.180373   \n",
      "35996  80.717635      83.852805       117.611849       ...         110.180373   \n",
      "35997  80.717635      83.852805       117.611849       ...         110.180373   \n",
      "35998  80.717635      83.852805       117.611849       ...         110.180373   \n",
      "35999  80.717635      83.852805       117.611849       ...         110.180373   \n",
      "\n",
      "         AMMANS_P AQABA A2_P  AQABA_TH_P   BAYADER_P  GHORSAF_P     MAAN_P  \\\n",
      "0      142.179793  28.967883   26.456249  123.863053  24.216399  40.743155   \n",
      "1      135.385285  28.404918   27.341207  119.592587  24.212756  39.842045   \n",
      "2      130.173645  27.793545   27.446248  114.806238  24.212756  38.863599   \n",
      "3      124.715073  26.255455   27.702298  110.032381  24.308198  37.422995   \n",
      "4      120.251608  26.229228   27.730119  106.152682  25.223323  36.267640   \n",
      "...           ...        ...         ...         ...        ...        ...   \n",
      "35995  170.687547  27.385097   21.642372  143.835519  20.475087  46.814844   \n",
      "35996  170.687547  27.385097   21.642372  143.835519  20.475087  46.814844   \n",
      "35997  170.687547  27.385097   21.642372  143.835519  20.475087  46.814844   \n",
      "35998  170.687547  27.385097   21.642372  143.835519  20.475087  46.814844   \n",
      "35999  170.687547  27.385097   21.642372  143.835519  20.475087  46.814844   \n",
      "\n",
      "       Q.A.I.A_P    ZERQA_P  \n",
      "0      92.468205  78.861674  \n",
      "1      91.254029  76.320411  \n",
      "2      89.993602  72.937742  \n",
      "3      88.736829  70.732932  \n",
      "4      87.590058  68.765413  \n",
      "...          ...        ...  \n",
      "35995  65.315162  86.534612  \n",
      "35996  65.315162  86.534612  \n",
      "35997  65.315162  86.534612  \n",
      "35998  65.315162  86.534612  \n",
      "35999  65.315162  86.534612  \n",
      "\n",
      "[36000 rows x 103 columns]\n"
     ]
    }
   ],
   "source": [
    "\n",
    "# Define the file path for the consumption data\n",
    "consumption_file_path = \"/Users/computer/Downloads/Load/Load/data/consumption_data/SUB_LOAD_15MIN - 2023.xlsx\"\n",
    "\n",
    "\n",
    "\n",
    "consumption_df = pd.read_excel(consumption_file_path)\n",
    "\n",
    "# Read the consumption data from the Excel file and Drop empty columns\n",
    "consumption_df = consumption_df.dropna(axis=1, how='all')\n",
    "# Display the first few rows of the DataFrame to confirm it is loaded correctly\n",
    "print(\"Consumption Data:\")\n",
    "print(consumption_df.head())\n",
    "\n",
    "\n",
    "# Combine date and time into a single datetime column\n",
    "consumption_df['date time'] = pd.to_datetime(consumption_df['date time'].astype(str).astype(str))\n",
    "\n",
    "# Display the resulting DataFrame\n",
    "print(\"Combined DateTime Data:\")\n",
    "print(consumption_df)\n"
   ]
  },
  {
   "cell_type": "markdown",
   "id": "717b2988-e0b6-4846-b5f8-0625d4f317de",
   "metadata": {},
   "source": [
    "## Merge the weather and consumption datasets"
   ]
  },
  {
   "cell_type": "code",
   "execution_count": 7,
   "id": "281c77b5-f41f-49d4-892a-9534ba4bc763",
   "metadata": {},
   "outputs": [
    {
     "name": "stdout",
     "output_type": "stream",
     "text": [
      "0   2021-01-01 00:00:00\n",
      "1   2021-01-01 00:05:00\n",
      "2   2021-01-01 00:10:00\n",
      "3   2021-01-01 00:15:00\n",
      "4   2021-01-01 00:20:00\n",
      "Name: datetime, dtype: datetime64[ns]\n",
      "0   2022-12-22 00:00:00\n",
      "1   2022-12-22 00:15:00\n",
      "2   2022-12-22 00:30:00\n",
      "3   2022-12-22 00:45:00\n",
      "4   2022-12-22 01:00:00\n",
      "Name: datetime, dtype: datetime64[ns]\n"
     ]
    }
   ],
   "source": [
    "# Rename the datetime columns to a common name\n",
    "weather_df.rename(columns={'date_time_weather': 'datetime'}, inplace=True)\n",
    "consumption_df.rename(columns={'date time': 'datetime'}, inplace=True)\n",
    "\n",
    "print(weather_df['datetime'].head())\n",
    "print(consumption_df['datetime'].head())\n"
   ]
  },
  {
   "cell_type": "code",
   "execution_count": 8,
   "id": "b036a07f-6750-4876-bf41-a251cb301ab1",
   "metadata": {},
   "outputs": [
    {
     "name": "stdout",
     "output_type": "stream",
     "text": [
      "  Unnamed: 1   datetime Unnamed: 3          Unnamed: 4   ABDOON_P  MW  \\\n",
      "0 2022-12-22 2022-12-22          - 2022-12-22 00:15:00  68.764967       \n",
      "1 2022-12-22 2022-12-22          - 2022-12-22 00:15:00  68.764967       \n",
      "2 2022-12-22 2022-12-22          - 2022-12-22 00:15:00  68.764967       \n",
      "3 2022-12-22 2022-12-22          - 2022-12-22 00:15:00  68.764967       \n",
      "4 2022-12-22 2022-12-22          - 2022-12-22 00:15:00  68.764967       \n",
      "\n",
      "   ALHIZAM_P MW.1   ALSALT_P MW.2  ...        lon        lat    alt  \\\n",
      "0  74.628408       101.05149       ...  36.135556  30.342222  865.0   \n",
      "1  74.628408       101.05149       ...  35.493611  31.058333 -350.0   \n",
      "2  74.628408       101.05149       ...  35.980556  32.488889  590.0   \n",
      "3  74.628408       101.05149       ...  35.855278  32.534722  616.0   \n",
      "4  74.628408       101.05149       ...  38.194722  32.503889  683.0   \n",
      "\n",
      "  wind_speed_knot  wind_direction_degree irradiance  \\\n",
      "0             NaN                    NaN        NaN   \n",
      "1             NaN                    NaN        NaN   \n",
      "2           0.338                  10.79        0.0   \n",
      "3           0.170                 329.00        0.0   \n",
      "4           0.000                   0.00        0.0   \n",
      "\n",
      "   relative_humidity_percent air_temperature_c  rainfall_mm  \\\n",
      "0                        NaN               NaN          NaN   \n",
      "1                        NaN               NaN          NaN   \n",
      "2                       94.0              10.2          0.0   \n",
      "3                       85.7              10.9          0.0   \n",
      "4                       91.9              10.4          0.0   \n",
      "\n",
      "  irradiance_corrected  \n",
      "0                  0.0  \n",
      "1                  0.0  \n",
      "2                  0.0  \n",
      "3                  0.0  \n",
      "4                  0.0  \n",
      "\n",
      "[5 rows x 117 columns]\n"
     ]
    }
   ],
   "source": [
    "import pandas as pd\n",
    "\n",
    "# Convert to datetime format\n",
    "weather_df['datetime'] = pd.to_datetime(weather_df['datetime'])\n",
    "consumption_df['datetime'] = pd.to_datetime(consumption_df['datetime'])\n",
    "\n",
    "# Filter weather data to start from '2022-12-22 00:00:00'\n",
    "weather_df = weather_df[weather_df['datetime'] >= '2022-12-22 00:00:00']\n",
    "\n",
    "# Merge on the datetime column\n",
    "merged_df = pd.merge(consumption_df, weather_df, on='datetime', how='inner')\n",
    "\n",
    "# Display result\n",
    "print(merged_df.head())\n"
   ]
  },
  {
   "cell_type": "code",
   "execution_count": 9,
   "id": "299e5e83-a161-4813-8708-09d493be8b80",
   "metadata": {},
   "outputs": [
    {
     "name": "stdout",
     "output_type": "stream",
     "text": [
      "Merged Data Columns: Index(['Unnamed: 1', 'datetime', 'Unnamed: 3', 'Unnamed: 4', 'ABDOON_P', 'MW',\n",
      "       'ALHIZAM_P', 'MW.1', 'ALSALT_P', 'MW.2',\n",
      "       ...\n",
      "       'lon', 'lat', 'alt', 'wind_speed_knot', 'wind_direction_degree',\n",
      "       'irradiance', 'relative_humidity_percent', 'air_temperature_c',\n",
      "       'rainfall_mm', 'irradiance_corrected'],\n",
      "      dtype='object', length=117)\n",
      "  Unnamed: 1   datetime Unnamed: 3          Unnamed: 4   ABDOON_P  MW  \\\n",
      "0 2022-12-22 2022-12-22          - 2022-12-22 00:15:00  68.764967       \n",
      "1 2022-12-22 2022-12-22          - 2022-12-22 00:15:00  68.764967       \n",
      "2 2022-12-22 2022-12-22          - 2022-12-22 00:15:00  68.764967       \n",
      "3 2022-12-22 2022-12-22          - 2022-12-22 00:15:00  68.764967       \n",
      "4 2022-12-22 2022-12-22          - 2022-12-22 00:15:00  68.764967       \n",
      "\n",
      "   ALHIZAM_P MW.1   ALSALT_P MW.2  ...        lon        lat    alt  \\\n",
      "0  74.628408       101.05149       ...  36.135556  30.342222  865.0   \n",
      "1  74.628408       101.05149       ...  35.493611  31.058333 -350.0   \n",
      "2  74.628408       101.05149       ...  35.980556  32.488889  590.0   \n",
      "3  74.628408       101.05149       ...  35.855278  32.534722  616.0   \n",
      "4  74.628408       101.05149       ...  38.194722  32.503889  683.0   \n",
      "\n",
      "  wind_speed_knot  wind_direction_degree irradiance  \\\n",
      "0             NaN                    NaN        NaN   \n",
      "1             NaN                    NaN        NaN   \n",
      "2           0.338                  10.79        0.0   \n",
      "3           0.170                 329.00        0.0   \n",
      "4           0.000                   0.00        0.0   \n",
      "\n",
      "   relative_humidity_percent air_temperature_c  rainfall_mm  \\\n",
      "0                        NaN               NaN          NaN   \n",
      "1                        NaN               NaN          NaN   \n",
      "2                       94.0              10.2          0.0   \n",
      "3                       85.7              10.9          0.0   \n",
      "4                       91.9              10.4          0.0   \n",
      "\n",
      "  irradiance_corrected  \n",
      "0                  0.0  \n",
      "1                  0.0  \n",
      "2                  0.0  \n",
      "3                  0.0  \n",
      "4                  0.0  \n",
      "\n",
      "[5 rows x 117 columns]\n"
     ]
    }
   ],
   "source": [
    "print(\"Merged Data Columns:\", merged_df.columns)\n",
    "print(merged_df.head())\n"
   ]
  },
  {
   "cell_type": "markdown",
   "id": "41b37cf5-bd23-46a5-9791-b233963e3e7b",
   "metadata": {},
   "source": [
    "## Keep necessary columns"
   ]
  },
  {
   "cell_type": "code",
   "execution_count": 11,
   "id": "f933facc-e72f-46a8-bb6c-259bc13d1799",
   "metadata": {},
   "outputs": [
    {
     "name": "stdout",
     "output_type": "stream",
     "text": [
      "Filtered Merged Data Columns: Index(['datetime', 'ABDOON_P', 'ALHIZAM_P', 'ALSALT_P', 'AQABAIN_P',\n",
      "       'ASHRFIA_P', 'ATTARATX_P', 'AZRAQ_P', 'BROADCA_P', 'C_CENTER_P',\n",
      "       'DHULEIL_P', 'DISI_P', 'EL_HASA_P', 'HASHMYA_P', 'HASAN_INDU_P',\n",
      "       'HUSAIN_UN_P', 'IRBID_E P', 'IRBID_N P', 'ISHTAFIN P', 'KARAK P',\n",
      "       'MADABA_S P', 'MAFRAQ_P', 'MANARAH_P', 'MARQA_P', 'M_CEMENT P',\n",
      "       'N_KARAK P', 'QATRANA P', 'QUWEIRA P', 'Q_CEMENT P', 'RAJIHI P',\n",
      "       'RAMA P', 'RASHADI_P', 'REHAB P', 'RESHA_N P', 'REWESHED P', 'SABHA P',\n",
      "       'SAFAWI P', 'SAHAB P', 'SHEDIA_P', 'SUBEIHI P', 'SWEIMEH P',\n",
      "       'TAFILA_C P', 'TAREQ P', 'UNIVRSTY P', 'WAQAS P', 'ABDALI_P',\n",
      "       'AMMANS_P', 'AQABA A2_P', 'AQABA_TH_P', 'BAYADER_P', 'GHORSAF_P',\n",
      "       'MAAN_P', 'Q.A.I.A_P', 'ZERQA_P', 'id', 'name', 'lon', 'lat', 'alt',\n",
      "       'wind_speed_knot', 'wind_direction_degree', 'irradiance',\n",
      "       'relative_humidity_percent', 'air_temperature_c', 'rainfall_mm',\n",
      "       'irradiance_corrected'],\n",
      "      dtype='object')\n"
     ]
    }
   ],
   "source": [
    "# List of columns to keep\n",
    "columns_to_keep = [\n",
    "    'datetime', 'ABDOON_P', 'ALHIZAM_P', 'ALSALT_P', 'AQABAIN_P',\n",
    "    'ASHRFIA_P', 'ATTARATX_P', 'AZRAQ_P', 'BROADCA_P', 'C_CENTER_P',\n",
    "    'DHULEIL_P', 'DISI_P', 'EL_HASA_P', 'HASHMYA_P', 'HASAN_INDU_P',\n",
    "    'HUSAIN_UN_P', 'IRBID_E P', 'IRBID_N P', 'ISHTAFIN P', 'KARAK P',\n",
    "    'MADABA_S P', 'MAFRAQ_P', 'MANARAH_P', 'MARQA_P', 'M_CEMENT P',\n",
    "    'N_KARAK P', 'QATRANA P', 'QUWEIRA P', 'Q_CEMENT P', 'RAJIHI P',\n",
    "    'RAMA P', 'RASHADI_P', 'REHAB P', 'RESHA_N P', 'REWESHED P', 'SABHA P',\n",
    "    'SAFAWI P', 'SAHAB P', 'SHEDIA_P', 'SUBEIHI P', 'SWEIMEH P',\n",
    "    'TAFILA_C P', 'TAREQ P', 'UNIVRSTY P', 'WAQAS P', 'ABDALI_P',\n",
    "    'AMMANS_P', 'AQABA A2_P', 'AQABA_TH_P', 'BAYADER_P', 'GHORSAF_P',\n",
    "    'MAAN_P', 'Q.A.I.A_P', 'ZERQA_P', 'id', 'name', 'lon', 'lat', 'alt',\n",
    "    'wind_speed_knot', 'wind_direction_degree', 'irradiance',\n",
    "    'relative_humidity_percent', 'air_temperature_c', 'rainfall_mm',\n",
    "    'irradiance_corrected'\n",
    "]\n",
    "\n",
    "# Keep only the specified columns\n",
    "merged_df = merged_df[columns_to_keep]\n",
    "\n",
    "# Check the cleaned columns\n",
    "print(\"Filtered Merged Data Columns:\", merged_df.columns)\n"
   ]
  },
  {
   "cell_type": "markdown",
   "id": "1439ee05-338c-4809-88c2-2776d76fad58",
   "metadata": {},
   "source": [
    "## Delete empty columns"
   ]
  },
  {
   "cell_type": "code",
   "execution_count": 13,
   "id": "81e14ebe-caa3-44c3-857e-e3f0b650fd40",
   "metadata": {},
   "outputs": [
    {
     "name": "stdout",
     "output_type": "stream",
     "text": [
      "Columns with Missing Values and Their Percentages:\n",
      "wind_speed_knot              10.108386\n",
      "wind_direction_degree        10.108386\n",
      "irradiance                   10.108631\n",
      "relative_humidity_percent    10.108386\n",
      "air_temperature_c            10.113036\n",
      "rainfall_mm                  10.108386\n",
      "dtype: float64\n"
     ]
    }
   ],
   "source": [
    "# Calculate the percentage of missing values in each column\n",
    "missing_percentage = merged_df.isnull().mean() * 100\n",
    "\n",
    "# Filter for columns that have missing values (greater than 0%)\n",
    "columns_with_missing_values = missing_percentage[missing_percentage > 0]\n",
    "\n",
    "# Display columns with missing values and their percentages\n",
    "print(\"Columns with Missing Values and Their Percentages:\")\n",
    "print(columns_with_missing_values)\n",
    "\n"
   ]
  },
  {
   "cell_type": "markdown",
   "id": "8913d63a-faf6-4037-9590-76d499a1e60e",
   "metadata": {},
   "source": [
    "## finding better imputation techniques"
   ]
  },
  {
   "cell_type": "code",
   "execution_count": 15,
   "id": "09bd432b-9f35-4e53-a665-c4574e036959",
   "metadata": {},
   "outputs": [
    {
     "name": "stdout",
     "output_type": "stream",
     "text": [
      "Data Types for Columns with Missing Values:\n",
      "wind_speed_knot              float64\n",
      "wind_direction_degree        float64\n",
      "irradiance                   float64\n",
      "relative_humidity_percent    float64\n",
      "air_temperature_c            float64\n",
      "rainfall_mm                  float64\n",
      "dtype: object\n"
     ]
    }
   ],
   "source": [
    "# Check the data types for the columns with missing values\n",
    "missing_columns = [\n",
    "    'wind_speed_knot', 'wind_direction_degree', 'irradiance',\n",
    "    'relative_humidity_percent', 'air_temperature_c', 'rainfall_mm'\n",
    "]\n",
    "\n",
    "data_types_missing = merged_df[missing_columns].dtypes\n",
    "print(\"Data Types for Columns with Missing Values:\")\n",
    "print(data_types_missing)\n"
   ]
  },
  {
   "cell_type": "code",
   "execution_count": 16,
   "id": "17ebe7c6-9996-4076-876c-fb602eee706b",
   "metadata": {},
   "outputs": [
    {
     "name": "stdout",
     "output_type": "stream",
     "text": [
      "<class 'pandas.core.frame.DataFrame'>\n"
     ]
    }
   ],
   "source": [
    "print(type(merged_df))\n"
   ]
  },
  {
   "cell_type": "code",
   "execution_count": 17,
   "id": "dd8c8353-65a1-49a4-a00b-fe1ea66efa4b",
   "metadata": {
    "scrolled": true
   },
   "outputs": [
    {
     "ename": "KeyboardInterrupt",
     "evalue": "",
     "output_type": "error",
     "traceback": [
      "\u001b[0;31m---------------------------------------------------------------------------\u001b[0m",
      "\u001b[0;31mKeyboardInterrupt\u001b[0m                         Traceback (most recent call last)",
      "Cell \u001b[0;32mIn[17], line 12\u001b[0m\n\u001b[1;32m      9\u001b[0m knn_imputer \u001b[38;5;241m=\u001b[39m KNNImputer(n_neighbors\u001b[38;5;241m=\u001b[39m\u001b[38;5;241m3\u001b[39m)  \u001b[38;5;66;03m# You can adjust the number of neighbors\u001b[39;00m\n\u001b[1;32m     11\u001b[0m \u001b[38;5;66;03m# Perform KNN imputation\u001b[39;00m\n\u001b[0;32m---> 12\u001b[0m knn_imputed_data \u001b[38;5;241m=\u001b[39m \u001b[43mknn_imputer\u001b[49m\u001b[38;5;241;43m.\u001b[39;49m\u001b[43mfit_transform\u001b[49m\u001b[43m(\u001b[49m\u001b[43mmerged_df\u001b[49m\u001b[43m[\u001b[49m\u001b[43mnumeric_columns\u001b[49m\u001b[43m]\u001b[49m\u001b[43m)\u001b[49m\n\u001b[1;32m     13\u001b[0m knn_imputed_df \u001b[38;5;241m=\u001b[39m pd\u001b[38;5;241m.\u001b[39mDataFrame(knn_imputed_data, columns\u001b[38;5;241m=\u001b[39mnumeric_columns)\n\u001b[1;32m     15\u001b[0m \u001b[38;5;66;03m# Replace original numeric columns with imputed values\u001b[39;00m\n",
      "File \u001b[0;32m/usr/local/Caskroom/miniconda/base/lib/python3.12/site-packages/sklearn/utils/_set_output.py:319\u001b[0m, in \u001b[0;36m_wrap_method_output.<locals>.wrapped\u001b[0;34m(self, X, *args, **kwargs)\u001b[0m\n\u001b[1;32m    317\u001b[0m \u001b[38;5;129m@wraps\u001b[39m(f)\n\u001b[1;32m    318\u001b[0m \u001b[38;5;28;01mdef\u001b[39;00m \u001b[38;5;21mwrapped\u001b[39m(\u001b[38;5;28mself\u001b[39m, X, \u001b[38;5;241m*\u001b[39margs, \u001b[38;5;241m*\u001b[39m\u001b[38;5;241m*\u001b[39mkwargs):\n\u001b[0;32m--> 319\u001b[0m     data_to_wrap \u001b[38;5;241m=\u001b[39m \u001b[43mf\u001b[49m\u001b[43m(\u001b[49m\u001b[38;5;28;43mself\u001b[39;49m\u001b[43m,\u001b[49m\u001b[43m \u001b[49m\u001b[43mX\u001b[49m\u001b[43m,\u001b[49m\u001b[43m \u001b[49m\u001b[38;5;241;43m*\u001b[39;49m\u001b[43margs\u001b[49m\u001b[43m,\u001b[49m\u001b[43m \u001b[49m\u001b[38;5;241;43m*\u001b[39;49m\u001b[38;5;241;43m*\u001b[39;49m\u001b[43mkwargs\u001b[49m\u001b[43m)\u001b[49m\n\u001b[1;32m    320\u001b[0m     \u001b[38;5;28;01mif\u001b[39;00m \u001b[38;5;28misinstance\u001b[39m(data_to_wrap, \u001b[38;5;28mtuple\u001b[39m):\n\u001b[1;32m    321\u001b[0m         \u001b[38;5;66;03m# only wrap the first output for cross decomposition\u001b[39;00m\n\u001b[1;32m    322\u001b[0m         return_tuple \u001b[38;5;241m=\u001b[39m (\n\u001b[1;32m    323\u001b[0m             _wrap_data_with_container(method, data_to_wrap[\u001b[38;5;241m0\u001b[39m], X, \u001b[38;5;28mself\u001b[39m),\n\u001b[1;32m    324\u001b[0m             \u001b[38;5;241m*\u001b[39mdata_to_wrap[\u001b[38;5;241m1\u001b[39m:],\n\u001b[1;32m    325\u001b[0m         )\n",
      "File \u001b[0;32m/usr/local/Caskroom/miniconda/base/lib/python3.12/site-packages/sklearn/base.py:918\u001b[0m, in \u001b[0;36mTransformerMixin.fit_transform\u001b[0;34m(self, X, y, **fit_params)\u001b[0m\n\u001b[1;32m    903\u001b[0m         warnings\u001b[38;5;241m.\u001b[39mwarn(\n\u001b[1;32m    904\u001b[0m             (\n\u001b[1;32m    905\u001b[0m                 \u001b[38;5;124mf\u001b[39m\u001b[38;5;124m\"\u001b[39m\u001b[38;5;124mThis object (\u001b[39m\u001b[38;5;132;01m{\u001b[39;00m\u001b[38;5;28mself\u001b[39m\u001b[38;5;241m.\u001b[39m\u001b[38;5;18m__class__\u001b[39m\u001b[38;5;241m.\u001b[39m\u001b[38;5;18m__name__\u001b[39m\u001b[38;5;132;01m}\u001b[39;00m\u001b[38;5;124m) has a `transform`\u001b[39m\u001b[38;5;124m\"\u001b[39m\n\u001b[0;32m   (...)\u001b[0m\n\u001b[1;32m    913\u001b[0m             \u001b[38;5;167;01mUserWarning\u001b[39;00m,\n\u001b[1;32m    914\u001b[0m         )\n\u001b[1;32m    916\u001b[0m \u001b[38;5;28;01mif\u001b[39;00m y \u001b[38;5;129;01mis\u001b[39;00m \u001b[38;5;28;01mNone\u001b[39;00m:\n\u001b[1;32m    917\u001b[0m     \u001b[38;5;66;03m# fit method of arity 1 (unsupervised transformation)\u001b[39;00m\n\u001b[0;32m--> 918\u001b[0m     \u001b[38;5;28;01mreturn\u001b[39;00m \u001b[38;5;28;43mself\u001b[39;49m\u001b[38;5;241;43m.\u001b[39;49m\u001b[43mfit\u001b[49m\u001b[43m(\u001b[49m\u001b[43mX\u001b[49m\u001b[43m,\u001b[49m\u001b[43m \u001b[49m\u001b[38;5;241;43m*\u001b[39;49m\u001b[38;5;241;43m*\u001b[39;49m\u001b[43mfit_params\u001b[49m\u001b[43m)\u001b[49m\u001b[38;5;241;43m.\u001b[39;49m\u001b[43mtransform\u001b[49m\u001b[43m(\u001b[49m\u001b[43mX\u001b[49m\u001b[43m)\u001b[49m\n\u001b[1;32m    919\u001b[0m \u001b[38;5;28;01melse\u001b[39;00m:\n\u001b[1;32m    920\u001b[0m     \u001b[38;5;66;03m# fit method of arity 2 (supervised transformation)\u001b[39;00m\n\u001b[1;32m    921\u001b[0m     \u001b[38;5;28;01mreturn\u001b[39;00m \u001b[38;5;28mself\u001b[39m\u001b[38;5;241m.\u001b[39mfit(X, y, \u001b[38;5;241m*\u001b[39m\u001b[38;5;241m*\u001b[39mfit_params)\u001b[38;5;241m.\u001b[39mtransform(X)\n",
      "File \u001b[0;32m/usr/local/Caskroom/miniconda/base/lib/python3.12/site-packages/sklearn/utils/_set_output.py:319\u001b[0m, in \u001b[0;36m_wrap_method_output.<locals>.wrapped\u001b[0;34m(self, X, *args, **kwargs)\u001b[0m\n\u001b[1;32m    317\u001b[0m \u001b[38;5;129m@wraps\u001b[39m(f)\n\u001b[1;32m    318\u001b[0m \u001b[38;5;28;01mdef\u001b[39;00m \u001b[38;5;21mwrapped\u001b[39m(\u001b[38;5;28mself\u001b[39m, X, \u001b[38;5;241m*\u001b[39margs, \u001b[38;5;241m*\u001b[39m\u001b[38;5;241m*\u001b[39mkwargs):\n\u001b[0;32m--> 319\u001b[0m     data_to_wrap \u001b[38;5;241m=\u001b[39m \u001b[43mf\u001b[49m\u001b[43m(\u001b[49m\u001b[38;5;28;43mself\u001b[39;49m\u001b[43m,\u001b[49m\u001b[43m \u001b[49m\u001b[43mX\u001b[49m\u001b[43m,\u001b[49m\u001b[43m \u001b[49m\u001b[38;5;241;43m*\u001b[39;49m\u001b[43margs\u001b[49m\u001b[43m,\u001b[49m\u001b[43m \u001b[49m\u001b[38;5;241;43m*\u001b[39;49m\u001b[38;5;241;43m*\u001b[39;49m\u001b[43mkwargs\u001b[49m\u001b[43m)\u001b[49m\n\u001b[1;32m    320\u001b[0m     \u001b[38;5;28;01mif\u001b[39;00m \u001b[38;5;28misinstance\u001b[39m(data_to_wrap, \u001b[38;5;28mtuple\u001b[39m):\n\u001b[1;32m    321\u001b[0m         \u001b[38;5;66;03m# only wrap the first output for cross decomposition\u001b[39;00m\n\u001b[1;32m    322\u001b[0m         return_tuple \u001b[38;5;241m=\u001b[39m (\n\u001b[1;32m    323\u001b[0m             _wrap_data_with_container(method, data_to_wrap[\u001b[38;5;241m0\u001b[39m], X, \u001b[38;5;28mself\u001b[39m),\n\u001b[1;32m    324\u001b[0m             \u001b[38;5;241m*\u001b[39mdata_to_wrap[\u001b[38;5;241m1\u001b[39m:],\n\u001b[1;32m    325\u001b[0m         )\n",
      "File \u001b[0;32m/usr/local/Caskroom/miniconda/base/lib/python3.12/site-packages/sklearn/impute/_knn.py:376\u001b[0m, in \u001b[0;36mKNNImputer.transform\u001b[0;34m(self, X)\u001b[0m\n\u001b[1;32m    367\u001b[0m \u001b[38;5;66;03m# process in fixed-memory chunks\u001b[39;00m\n\u001b[1;32m    368\u001b[0m gen \u001b[38;5;241m=\u001b[39m pairwise_distances_chunked(\n\u001b[1;32m    369\u001b[0m     X[row_missing_idx, :],\n\u001b[1;32m    370\u001b[0m     \u001b[38;5;28mself\u001b[39m\u001b[38;5;241m.\u001b[39m_fit_X,\n\u001b[0;32m   (...)\u001b[0m\n\u001b[1;32m    374\u001b[0m     reduce_func\u001b[38;5;241m=\u001b[39mprocess_chunk,\n\u001b[1;32m    375\u001b[0m )\n\u001b[0;32m--> 376\u001b[0m \u001b[43m\u001b[49m\u001b[38;5;28;43;01mfor\u001b[39;49;00m\u001b[43m \u001b[49m\u001b[43mchunk\u001b[49m\u001b[43m \u001b[49m\u001b[38;5;129;43;01min\u001b[39;49;00m\u001b[43m \u001b[49m\u001b[43mgen\u001b[49m\u001b[43m:\u001b[49m\n\u001b[1;32m    377\u001b[0m \u001b[43m    \u001b[49m\u001b[38;5;66;43;03m# process_chunk modifies X in place. No return value.\u001b[39;49;00m\n\u001b[1;32m    378\u001b[0m \u001b[43m    \u001b[49m\u001b[38;5;28;43;01mpass\u001b[39;49;00m\n\u001b[1;32m    380\u001b[0m \u001b[38;5;28;01mif\u001b[39;00m \u001b[38;5;28mself\u001b[39m\u001b[38;5;241m.\u001b[39mkeep_empty_features:\n",
      "File \u001b[0;32m/usr/local/Caskroom/miniconda/base/lib/python3.12/site-packages/sklearn/metrics/pairwise.py:2252\u001b[0m, in \u001b[0;36mpairwise_distances_chunked\u001b[0;34m(X, Y, reduce_func, metric, n_jobs, working_memory, **kwds)\u001b[0m\n\u001b[1;32m   2250\u001b[0m \u001b[38;5;28;01melse\u001b[39;00m:\n\u001b[1;32m   2251\u001b[0m     X_chunk \u001b[38;5;241m=\u001b[39m X[sl]\n\u001b[0;32m-> 2252\u001b[0m D_chunk \u001b[38;5;241m=\u001b[39m \u001b[43mpairwise_distances\u001b[49m\u001b[43m(\u001b[49m\u001b[43mX_chunk\u001b[49m\u001b[43m,\u001b[49m\u001b[43m \u001b[49m\u001b[43mY\u001b[49m\u001b[43m,\u001b[49m\u001b[43m \u001b[49m\u001b[43mmetric\u001b[49m\u001b[38;5;241;43m=\u001b[39;49m\u001b[43mmetric\u001b[49m\u001b[43m,\u001b[49m\u001b[43m \u001b[49m\u001b[43mn_jobs\u001b[49m\u001b[38;5;241;43m=\u001b[39;49m\u001b[43mn_jobs\u001b[49m\u001b[43m,\u001b[49m\u001b[43m \u001b[49m\u001b[38;5;241;43m*\u001b[39;49m\u001b[38;5;241;43m*\u001b[39;49m\u001b[43mkwds\u001b[49m\u001b[43m)\u001b[49m\n\u001b[1;32m   2253\u001b[0m \u001b[38;5;28;01mif\u001b[39;00m (X \u001b[38;5;129;01mis\u001b[39;00m Y \u001b[38;5;129;01mor\u001b[39;00m Y \u001b[38;5;129;01mis\u001b[39;00m \u001b[38;5;28;01mNone\u001b[39;00m) \u001b[38;5;129;01mand\u001b[39;00m PAIRWISE_DISTANCE_FUNCTIONS\u001b[38;5;241m.\u001b[39mget(\n\u001b[1;32m   2254\u001b[0m     metric, \u001b[38;5;28;01mNone\u001b[39;00m\n\u001b[1;32m   2255\u001b[0m ) \u001b[38;5;129;01mis\u001b[39;00m euclidean_distances:\n\u001b[1;32m   2256\u001b[0m     \u001b[38;5;66;03m# zeroing diagonal, taking care of aliases of \"euclidean\",\u001b[39;00m\n\u001b[1;32m   2257\u001b[0m     \u001b[38;5;66;03m# i.e. \"l2\"\u001b[39;00m\n\u001b[1;32m   2258\u001b[0m     D_chunk\u001b[38;5;241m.\u001b[39mflat[sl\u001b[38;5;241m.\u001b[39mstart :: _num_samples(X) \u001b[38;5;241m+\u001b[39m \u001b[38;5;241m1\u001b[39m] \u001b[38;5;241m=\u001b[39m \u001b[38;5;241m0\u001b[39m\n",
      "File \u001b[0;32m/usr/local/Caskroom/miniconda/base/lib/python3.12/site-packages/sklearn/utils/_param_validation.py:216\u001b[0m, in \u001b[0;36mvalidate_params.<locals>.decorator.<locals>.wrapper\u001b[0;34m(*args, **kwargs)\u001b[0m\n\u001b[1;32m    210\u001b[0m \u001b[38;5;28;01mtry\u001b[39;00m:\n\u001b[1;32m    211\u001b[0m     \u001b[38;5;28;01mwith\u001b[39;00m config_context(\n\u001b[1;32m    212\u001b[0m         skip_parameter_validation\u001b[38;5;241m=\u001b[39m(\n\u001b[1;32m    213\u001b[0m             prefer_skip_nested_validation \u001b[38;5;129;01mor\u001b[39;00m global_skip_validation\n\u001b[1;32m    214\u001b[0m         )\n\u001b[1;32m    215\u001b[0m     ):\n\u001b[0;32m--> 216\u001b[0m         \u001b[38;5;28;01mreturn\u001b[39;00m \u001b[43mfunc\u001b[49m\u001b[43m(\u001b[49m\u001b[38;5;241;43m*\u001b[39;49m\u001b[43margs\u001b[49m\u001b[43m,\u001b[49m\u001b[43m \u001b[49m\u001b[38;5;241;43m*\u001b[39;49m\u001b[38;5;241;43m*\u001b[39;49m\u001b[43mkwargs\u001b[49m\u001b[43m)\u001b[49m\n\u001b[1;32m    217\u001b[0m \u001b[38;5;28;01mexcept\u001b[39;00m InvalidParameterError \u001b[38;5;28;01mas\u001b[39;00m e:\n\u001b[1;32m    218\u001b[0m     \u001b[38;5;66;03m# When the function is just a wrapper around an estimator, we allow\u001b[39;00m\n\u001b[1;32m    219\u001b[0m     \u001b[38;5;66;03m# the function to delegate validation to the estimator, but we replace\u001b[39;00m\n\u001b[1;32m    220\u001b[0m     \u001b[38;5;66;03m# the name of the estimator by the name of the function in the error\u001b[39;00m\n\u001b[1;32m    221\u001b[0m     \u001b[38;5;66;03m# message to avoid confusion.\u001b[39;00m\n\u001b[1;32m    222\u001b[0m     msg \u001b[38;5;241m=\u001b[39m re\u001b[38;5;241m.\u001b[39msub(\n\u001b[1;32m    223\u001b[0m         \u001b[38;5;124mr\u001b[39m\u001b[38;5;124m\"\u001b[39m\u001b[38;5;124mparameter of \u001b[39m\u001b[38;5;124m\\\u001b[39m\u001b[38;5;124mw+ must be\u001b[39m\u001b[38;5;124m\"\u001b[39m,\n\u001b[1;32m    224\u001b[0m         \u001b[38;5;124mf\u001b[39m\u001b[38;5;124m\"\u001b[39m\u001b[38;5;124mparameter of \u001b[39m\u001b[38;5;132;01m{\u001b[39;00mfunc\u001b[38;5;241m.\u001b[39m\u001b[38;5;18m__qualname__\u001b[39m\u001b[38;5;132;01m}\u001b[39;00m\u001b[38;5;124m must be\u001b[39m\u001b[38;5;124m\"\u001b[39m,\n\u001b[1;32m    225\u001b[0m         \u001b[38;5;28mstr\u001b[39m(e),\n\u001b[1;32m    226\u001b[0m     )\n",
      "File \u001b[0;32m/usr/local/Caskroom/miniconda/base/lib/python3.12/site-packages/sklearn/metrics/pairwise.py:2480\u001b[0m, in \u001b[0;36mpairwise_distances\u001b[0;34m(X, Y, metric, n_jobs, force_all_finite, ensure_all_finite, **kwds)\u001b[0m\n\u001b[1;32m   2477\u001b[0m         \u001b[38;5;28;01mreturn\u001b[39;00m distance\u001b[38;5;241m.\u001b[39msquareform(distance\u001b[38;5;241m.\u001b[39mpdist(X, metric\u001b[38;5;241m=\u001b[39mmetric, \u001b[38;5;241m*\u001b[39m\u001b[38;5;241m*\u001b[39mkwds))\n\u001b[1;32m   2478\u001b[0m     func \u001b[38;5;241m=\u001b[39m partial(distance\u001b[38;5;241m.\u001b[39mcdist, metric\u001b[38;5;241m=\u001b[39mmetric, \u001b[38;5;241m*\u001b[39m\u001b[38;5;241m*\u001b[39mkwds)\n\u001b[0;32m-> 2480\u001b[0m \u001b[38;5;28;01mreturn\u001b[39;00m \u001b[43m_parallel_pairwise\u001b[49m\u001b[43m(\u001b[49m\u001b[43mX\u001b[49m\u001b[43m,\u001b[49m\u001b[43m \u001b[49m\u001b[43mY\u001b[49m\u001b[43m,\u001b[49m\u001b[43m \u001b[49m\u001b[43mfunc\u001b[49m\u001b[43m,\u001b[49m\u001b[43m \u001b[49m\u001b[43mn_jobs\u001b[49m\u001b[43m,\u001b[49m\u001b[43m \u001b[49m\u001b[38;5;241;43m*\u001b[39;49m\u001b[38;5;241;43m*\u001b[39;49m\u001b[43mkwds\u001b[49m\u001b[43m)\u001b[49m\n",
      "File \u001b[0;32m/usr/local/Caskroom/miniconda/base/lib/python3.12/site-packages/sklearn/metrics/pairwise.py:1973\u001b[0m, in \u001b[0;36m_parallel_pairwise\u001b[0;34m(X, Y, func, n_jobs, **kwds)\u001b[0m\n\u001b[1;32m   1970\u001b[0m X, Y, dtype \u001b[38;5;241m=\u001b[39m _return_float_dtype(X, Y)\n\u001b[1;32m   1972\u001b[0m \u001b[38;5;28;01mif\u001b[39;00m effective_n_jobs(n_jobs) \u001b[38;5;241m==\u001b[39m \u001b[38;5;241m1\u001b[39m:\n\u001b[0;32m-> 1973\u001b[0m     \u001b[38;5;28;01mreturn\u001b[39;00m \u001b[43mfunc\u001b[49m\u001b[43m(\u001b[49m\u001b[43mX\u001b[49m\u001b[43m,\u001b[49m\u001b[43m \u001b[49m\u001b[43mY\u001b[49m\u001b[43m,\u001b[49m\u001b[43m \u001b[49m\u001b[38;5;241;43m*\u001b[39;49m\u001b[38;5;241;43m*\u001b[39;49m\u001b[43mkwds\u001b[49m\u001b[43m)\u001b[49m\n\u001b[1;32m   1975\u001b[0m \u001b[38;5;66;03m# enforce a threading backend to prevent data communication overhead\u001b[39;00m\n\u001b[1;32m   1976\u001b[0m fd \u001b[38;5;241m=\u001b[39m delayed(_dist_wrapper)\n",
      "File \u001b[0;32m/usr/local/Caskroom/miniconda/base/lib/python3.12/site-packages/sklearn/utils/_param_validation.py:189\u001b[0m, in \u001b[0;36mvalidate_params.<locals>.decorator.<locals>.wrapper\u001b[0;34m(*args, **kwargs)\u001b[0m\n\u001b[1;32m    187\u001b[0m global_skip_validation \u001b[38;5;241m=\u001b[39m get_config()[\u001b[38;5;124m\"\u001b[39m\u001b[38;5;124mskip_parameter_validation\u001b[39m\u001b[38;5;124m\"\u001b[39m]\n\u001b[1;32m    188\u001b[0m \u001b[38;5;28;01mif\u001b[39;00m global_skip_validation:\n\u001b[0;32m--> 189\u001b[0m     \u001b[38;5;28;01mreturn\u001b[39;00m \u001b[43mfunc\u001b[49m\u001b[43m(\u001b[49m\u001b[38;5;241;43m*\u001b[39;49m\u001b[43margs\u001b[49m\u001b[43m,\u001b[49m\u001b[43m \u001b[49m\u001b[38;5;241;43m*\u001b[39;49m\u001b[38;5;241;43m*\u001b[39;49m\u001b[43mkwargs\u001b[49m\u001b[43m)\u001b[49m\n\u001b[1;32m    191\u001b[0m func_sig \u001b[38;5;241m=\u001b[39m signature(func)\n\u001b[1;32m    193\u001b[0m \u001b[38;5;66;03m# Map *args/**kwargs to the function signature\u001b[39;00m\n",
      "File \u001b[0;32m/usr/local/Caskroom/miniconda/base/lib/python3.12/site-packages/sklearn/metrics/pairwise.py:569\u001b[0m, in \u001b[0;36mnan_euclidean_distances\u001b[0;34m(X, Y, squared, missing_values, copy)\u001b[0m\n\u001b[1;32m    567\u001b[0m present_X \u001b[38;5;241m=\u001b[39m \u001b[38;5;241m1\u001b[39m \u001b[38;5;241m-\u001b[39m missing_X\n\u001b[1;32m    568\u001b[0m present_Y \u001b[38;5;241m=\u001b[39m present_X \u001b[38;5;28;01mif\u001b[39;00m Y \u001b[38;5;129;01mis\u001b[39;00m X \u001b[38;5;28;01melse\u001b[39;00m \u001b[38;5;241m~\u001b[39mmissing_Y\n\u001b[0;32m--> 569\u001b[0m present_count \u001b[38;5;241m=\u001b[39m \u001b[43mnp\u001b[49m\u001b[38;5;241;43m.\u001b[39;49m\u001b[43mdot\u001b[49m\u001b[43m(\u001b[49m\u001b[43mpresent_X\u001b[49m\u001b[43m,\u001b[49m\u001b[43m \u001b[49m\u001b[43mpresent_Y\u001b[49m\u001b[38;5;241;43m.\u001b[39;49m\u001b[43mT\u001b[49m\u001b[43m)\u001b[49m\n\u001b[1;32m    570\u001b[0m distances[present_count \u001b[38;5;241m==\u001b[39m \u001b[38;5;241m0\u001b[39m] \u001b[38;5;241m=\u001b[39m np\u001b[38;5;241m.\u001b[39mnan\n\u001b[1;32m    571\u001b[0m \u001b[38;5;66;03m# avoid divide by zero\u001b[39;00m\n",
      "\u001b[0;31mKeyboardInterrupt\u001b[0m: "
     ]
    }
   ],
   "source": [
    "import pandas as pd\n",
    "from sklearn.impute import KNNImputer\n",
    "\n",
    "# Ensure merged_df is a DataFrame (already confirmed)\n",
    "# Select numeric columns for KNN imputation\n",
    "numeric_columns = merged_df.select_dtypes(include=['float64', 'int64']).columns\n",
    "\n",
    "# Initialize KNN Imputer\n",
    "knn_imputer = KNNImputer(n_neighbors=3)  # You can adjust the number of neighbors\n",
    "\n",
    "# Perform KNN imputation\n",
    "knn_imputed_data = knn_imputer.fit_transform(merged_df[numeric_columns])\n",
    "knn_imputed_df = pd.DataFrame(knn_imputed_data, columns=numeric_columns)\n",
    "\n",
    "# Replace original numeric columns with imputed values\n",
    "merged_df[numeric_columns] = knn_imputed_df\n",
    "\n",
    "# Check the result\n",
    "print(merged_df.isnull().sum())  # Print the count of missing values in each column after imputation\n"
   ]
  },
  {
   "cell_type": "markdown",
   "id": "21ad6933-7ba8-475b-ad59-d6a36f13fe2b",
   "metadata": {},
   "source": [
    "## Fill the nulls with median for the columns that still have nulls "
   ]
  },
  {
   "cell_type": "code",
   "execution_count": null,
   "id": "9cb75b7f-174c-498c-9a7b-5698ed32cd57",
   "metadata": {},
   "outputs": [],
   "source": [
    "# Columns to fill with median values\n",
    "columns_to_fill = merged_df.columns[merged_df.isnull().any()]\n",
    "\n",
    "# Fill missing values with the median for the specified columns\n",
    "for column in columns_to_fill:\n",
    "    median_value = merged_df[column].median()\n",
    "    merged_df[column].fillna(median_value, inplace=True)\n",
    "\n",
    "# Check if there are still missing values after filling\n",
    "missing_values_count = merged_df.isnull().sum()\n",
    "if (missing_values_count > 0).any():\n",
    "    print(\"Some columns still have missing values:\")\n",
    "    print(missing_values_count[missing_values_count > 0])\n",
    "else:\n",
    "    print(\"All missing values have been filled with median values.\")\n"
   ]
  },
  {
   "cell_type": "code",
   "execution_count": null,
   "id": "65699171-dabb-4376-a456-2a9d69eeb16a",
   "metadata": {},
   "outputs": [],
   "source": [
    "merged_df.head()"
   ]
  },
  {
   "cell_type": "code",
   "execution_count": null,
   "id": "e8cff5f6-dec6-4029-a4e8-27a5f72fc894",
   "metadata": {},
   "outputs": [],
   "source": []
  }
 ],
 "metadata": {
  "kernelspec": {
   "display_name": "Python [conda env:base]",
   "language": "python",
   "name": "conda-base-py"
  },
  "language_info": {
   "codemirror_mode": {
    "name": "ipython",
    "version": 3
   },
   "file_extension": ".py",
   "mimetype": "text/x-python",
   "name": "python",
   "nbconvert_exporter": "python",
   "pygments_lexer": "ipython3",
   "version": "3.12.8"
  }
 },
 "nbformat": 4,
 "nbformat_minor": 5
}
